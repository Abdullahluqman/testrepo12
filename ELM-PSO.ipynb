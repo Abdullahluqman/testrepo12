{
 "cells": [
  {
   "cell_type": "code",
   "execution_count": 1,
   "metadata": {},
   "outputs": [],
   "source": [
    "import pandas as pd\n",
    "import numpy as np\n",
    "import tensorflow as tf\n",
    "\n",
    "np.random.seed(0)\n"
   ]
  },
  {
   "cell_type": "code",
   "execution_count": 2,
   "metadata": {},
   "outputs": [],
   "source": [
    "data = pd.read_csv('StreamflowT1.csv') \n",
    "data = data.loc[:, ~data.columns.str.startswith('Unnamed')]\n"
   ]
  },
  {
   "cell_type": "code",
   "execution_count": 3,
   "metadata": {},
   "outputs": [
    {
     "name": "stdout",
     "output_type": "stream",
     "text": [
      "Total number of rows after dropping 'nan':  6566\n"
     ]
    }
   ],
   "source": [
    "# Drop rows with 'nan' values\n",
    "data = data.dropna()\n",
    "\n",
    "# Then split into features (X) and labels (Y)\n",
    "X = data.drop(columns=['0240251SF']).values.astype(np.float32)\n",
    "Y = data['0240251SF'].values.reshape(-1, 1).astype(np.float32)  # Reshape to be 2D array, as expected by model\n",
    "\n",
    "# Check again for 'nan' in X and Y\n",
    "if np.isnan(X).any():\n",
    "    print(\"There are still nan values in X\")\n",
    "if np.isnan(Y).any():\n",
    "    print(\"There are still nan values in Y\")\n",
    "\n",
    "# Print new number of rows\n",
    "print(\"Total number of rows after dropping 'nan': \", data.shape[0])\n"
   ]
  },
  {
   "cell_type": "code",
   "execution_count": 4,
   "metadata": {},
   "outputs": [
    {
     "name": "stdout",
     "output_type": "stream",
     "text": [
      "Training set size:  5252\n",
      "Test set size:  1314\n"
     ]
    }
   ],
   "source": [
    "from sklearn.model_selection import train_test_split\n",
    "\n",
    "# Split into train and test sets\n",
    "X_train, X_test, Y_train, Y_test = train_test_split(X, Y, test_size=0.2, random_state=42)\n",
    "\n",
    "print(\"Training set size: \", X_train.shape[0])\n",
    "print(\"Test set size: \", X_test.shape[0])\n"
   ]
  },
  {
   "cell_type": "code",
   "execution_count": 5,
   "metadata": {},
   "outputs": [],
   "source": [
    "\n",
    "\n",
    "class PSO:\n",
    "    def __init__(self, population_size, dimensions, cognitive_weight, social_weight, inertia_weight, start_velocity=0.5, end_velocity=0.1):\n",
    "        self.population_size = population_size\n",
    "        self.dimensions = dimensions\n",
    "        self.population = [Particle(dimensions) for _ in range(population_size)]\n",
    "        self.global_best_position = np.copy(self.population[0].position)\n",
    "        self.cognitive_weight = cognitive_weight\n",
    "        self.social_weight = social_weight\n",
    "        self.inertia_weight = inertia_weight\n",
    "        self.start_velocity = start_velocity\n",
    "        self.end_velocity = end_velocity\n",
    "        self.velocity = start_velocity\n",
    "    \n",
    "    def optimize(self, loss_func, iterations, reinit_interval=50, reinit_ratio=0.25):\n",
    "        best_fitness = float('inf')\n",
    "\n",
    "        for i in range(iterations):\n",
    "            for particle in self.population:\n",
    "                fitness = loss_func(particle.position)\n",
    "\n",
    "                # Update personal best\n",
    "                if fitness < loss_func(particle.best_position):\n",
    "                    particle.best_position = np.copy(particle.position)\n",
    "\n",
    "                # Update global best\n",
    "                if fitness < loss_func(self.global_best_position):\n",
    "                    self.global_best_position = np.copy(particle.position)\n",
    "                    best_fitness = fitness\n",
    "\n",
    "            for particle in self.population:\n",
    "                cognitive_velocity = self.cognitive_weight * np.random.rand() * (particle.best_position - particle.position)\n",
    "                social_velocity = self.social_weight * np.random.rand() * (self.global_best_position - particle.position)\n",
    "                particle.velocity = self.inertia_weight * particle.velocity + cognitive_velocity + social_velocity\n",
    "\n",
    "                # Limit and adjust velocities\n",
    "                self.velocity = max(self.velocity, self.end_velocity)\n",
    "                particle.velocity = np.clip(particle.velocity, -self.velocity, self.velocity)\n",
    "                particle.position += particle.velocity\n",
    "\n",
    "            # Periodically re-initialize a portion of the swarm\n",
    "            if (i+1) % reinit_interval == 0:\n",
    "                num_to_reinit = int(self.population_size * reinit_ratio)\n",
    "                for _ in range(num_to_reinit):\n",
    "                    idx = np.random.randint(0, self.population_size)\n",
    "                    self.population[idx] = Particle(self.dimensions)\n",
    "\n",
    "            # Decrease the velocity linearly\n",
    "            self.velocity -= (self.start_velocity - self.end_velocity) / iterations\n",
    "\n",
    "        return self.global_best_position, best_fitness\n"
   ]
  },
  {
   "cell_type": "code",
   "execution_count": 6,
   "metadata": {},
   "outputs": [],
   "source": [
    "class ELM:\n",
    "    def __init__(self, input_dim, hidden_dim, output_dim):\n",
    "        self.input_dim = input_dim\n",
    "        self.hidden_dim = hidden_dim\n",
    "        self.output_dim = output_dim\n",
    "\n",
    "        # Weights and biases\n",
    "        self.W = tf.Variable(tf.random.normal([self.input_dim, self.hidden_dim]), trainable=False, dtype=tf.float32)\n",
    "        self.b = tf.Variable(tf.random.normal([self.hidden_dim]), trainable=False, dtype=tf.float32)\n",
    "        self.beta = tf.Variable(tf.zeros([self.hidden_dim, self.output_dim]), trainable=True, dtype=tf.float32)\n",
    "\n",
    "    def model(self, X):\n",
    "        # Input to hidden layer\n",
    "        hidden_layer = tf.nn.relu(tf.add(tf.matmul(X, self.W), self.b))\n",
    "        \n",
    "        # Hidden layer to output\n",
    "        output_layer = tf.matmul(hidden_layer, self.beta)\n",
    "        \n",
    "        return output_layer\n",
    "\n",
    "    def loss(self, X, Y):\n",
    "        Y_pred = self.predict(X)\n",
    "        return tf.reduce_mean(tf.square(Y - Y_pred))\n",
    "\n",
    "    def train(self, X, Y, epochs=5):\n",
    "        pso = PSO(\n",
    "        population_size=200, \n",
    "        dimensions=self.hidden_dim * self.output_dim, \n",
    "        cognitive_weight=0.8, \n",
    "        social_weight=0.8, \n",
    "        inertia_weight=0.9)\n",
    "\n",
    "        for epoch in range(epochs):\n",
    "            loss_func = lambda positions: (self.beta.assign(tf.reshape(tf.convert_to_tensor(positions, dtype=tf.float32), (self.hidden_dim, self.output_dim))), self.loss(X, Y))[-1]\n",
    "\n",
    "\n",
    "            best_position, best_loss = pso.optimize(loss_func, iterations=  100)\n",
    "\n",
    "            # Reshape best position to match shape of self.beta and convert to float32\n",
    "            best_position = tf.reshape(best_position.astype('float32'), self.beta.shape)\n",
    "\n",
    "            # Update beta\n",
    "            self.beta.assign(best_position)\n",
    "\n",
    "            if (epoch+1) % 50 == 0:\n",
    "                print(f'Epoch: {epoch+1}, Loss: {self.loss(X, Y).numpy()}')\n",
    "    def predict(self, X):\n",
    "        return self.model(X)"
   ]
  },
  {
   "cell_type": "code",
   "execution_count": 7,
   "metadata": {},
   "outputs": [
    {
     "name": "stdout",
     "output_type": "stream",
     "text": [
      "Training set size:  5252\n",
      "Test set size:  1314\n"
     ]
    },
    {
     "ename": "NameError",
     "evalue": "name 'Particle' is not defined",
     "output_type": "error",
     "traceback": [
      "\u001b[1;31m---------------------------------------------------------------------------\u001b[0m",
      "\u001b[1;31mNameError\u001b[0m                                 Traceback (most recent call last)",
      "Cell \u001b[1;32mIn[7], line 13\u001b[0m\n\u001b[0;32m     10\u001b[0m elm \u001b[39m=\u001b[39m ELM(input_dim\u001b[39m=\u001b[39mX\u001b[39m.\u001b[39mshape[\u001b[39m1\u001b[39m], hidden_dim\u001b[39m=\u001b[39m\u001b[39m15\u001b[39m, output_dim\u001b[39m=\u001b[39m\u001b[39m1\u001b[39m)\n\u001b[0;32m     12\u001b[0m \u001b[39m# Train model\u001b[39;00m\n\u001b[1;32m---> 13\u001b[0m elm\u001b[39m.\u001b[39mtrain(X_train, Y_train, epochs\u001b[39m=\u001b[39m\u001b[39m20\u001b[39m)\n\u001b[0;32m     15\u001b[0m \u001b[39m# Predict on test data\u001b[39;00m\n\u001b[0;32m     16\u001b[0m Y_pred \u001b[39m=\u001b[39m elm\u001b[39m.\u001b[39mpredict(X_test)\n",
      "Cell \u001b[1;32mIn[6], line 26\u001b[0m, in \u001b[0;36mELM.train\u001b[1;34m(self, X, Y, epochs)\u001b[0m\n\u001b[0;32m     25\u001b[0m \u001b[39mdef\u001b[39;00m \u001b[39mtrain\u001b[39m(\u001b[39mself\u001b[39m, X, Y, epochs\u001b[39m=\u001b[39m\u001b[39m5\u001b[39m):\n\u001b[1;32m---> 26\u001b[0m     pso \u001b[39m=\u001b[39m PSO(\n\u001b[0;32m     27\u001b[0m     population_size\u001b[39m=\u001b[39m\u001b[39m200\u001b[39m, \n\u001b[0;32m     28\u001b[0m     dimensions\u001b[39m=\u001b[39m\u001b[39mself\u001b[39m\u001b[39m.\u001b[39mhidden_dim \u001b[39m*\u001b[39m \u001b[39mself\u001b[39m\u001b[39m.\u001b[39moutput_dim, \n\u001b[0;32m     29\u001b[0m     cognitive_weight\u001b[39m=\u001b[39m\u001b[39m0.8\u001b[39m, \n\u001b[0;32m     30\u001b[0m     social_weight\u001b[39m=\u001b[39m\u001b[39m0.8\u001b[39m, \n\u001b[0;32m     31\u001b[0m     inertia_weight\u001b[39m=\u001b[39m\u001b[39m0.9\u001b[39m)\n\u001b[0;32m     33\u001b[0m     \u001b[39mfor\u001b[39;00m epoch \u001b[39min\u001b[39;00m \u001b[39mrange\u001b[39m(epochs):\n\u001b[0;32m     34\u001b[0m         loss_func \u001b[39m=\u001b[39m \u001b[39mlambda\u001b[39;00m positions: (\u001b[39mself\u001b[39m\u001b[39m.\u001b[39mbeta\u001b[39m.\u001b[39massign(tf\u001b[39m.\u001b[39mreshape(tf\u001b[39m.\u001b[39mconvert_to_tensor(positions, dtype\u001b[39m=\u001b[39mtf\u001b[39m.\u001b[39mfloat32), (\u001b[39mself\u001b[39m\u001b[39m.\u001b[39mhidden_dim, \u001b[39mself\u001b[39m\u001b[39m.\u001b[39moutput_dim))), \u001b[39mself\u001b[39m\u001b[39m.\u001b[39mloss(X, Y))[\u001b[39m-\u001b[39m\u001b[39m1\u001b[39m]\n",
      "Cell \u001b[1;32mIn[5], line 5\u001b[0m, in \u001b[0;36mPSO.__init__\u001b[1;34m(self, population_size, dimensions, cognitive_weight, social_weight, inertia_weight, start_velocity, end_velocity)\u001b[0m\n\u001b[0;32m      3\u001b[0m \u001b[39mself\u001b[39m\u001b[39m.\u001b[39mpopulation_size \u001b[39m=\u001b[39m population_size\n\u001b[0;32m      4\u001b[0m \u001b[39mself\u001b[39m\u001b[39m.\u001b[39mdimensions \u001b[39m=\u001b[39m dimensions\n\u001b[1;32m----> 5\u001b[0m \u001b[39mself\u001b[39m\u001b[39m.\u001b[39mpopulation \u001b[39m=\u001b[39m [Particle(dimensions) \u001b[39mfor\u001b[39;00m _ \u001b[39min\u001b[39;00m \u001b[39mrange\u001b[39m(population_size)]\n\u001b[0;32m      6\u001b[0m \u001b[39mself\u001b[39m\u001b[39m.\u001b[39mglobal_best_position \u001b[39m=\u001b[39m np\u001b[39m.\u001b[39mcopy(\u001b[39mself\u001b[39m\u001b[39m.\u001b[39mpopulation[\u001b[39m0\u001b[39m]\u001b[39m.\u001b[39mposition)\n\u001b[0;32m      7\u001b[0m \u001b[39mself\u001b[39m\u001b[39m.\u001b[39mcognitive_weight \u001b[39m=\u001b[39m cognitive_weight\n",
      "Cell \u001b[1;32mIn[5], line 5\u001b[0m, in \u001b[0;36m<listcomp>\u001b[1;34m(.0)\u001b[0m\n\u001b[0;32m      3\u001b[0m \u001b[39mself\u001b[39m\u001b[39m.\u001b[39mpopulation_size \u001b[39m=\u001b[39m population_size\n\u001b[0;32m      4\u001b[0m \u001b[39mself\u001b[39m\u001b[39m.\u001b[39mdimensions \u001b[39m=\u001b[39m dimensions\n\u001b[1;32m----> 5\u001b[0m \u001b[39mself\u001b[39m\u001b[39m.\u001b[39mpopulation \u001b[39m=\u001b[39m [Particle(dimensions) \u001b[39mfor\u001b[39;00m _ \u001b[39min\u001b[39;00m \u001b[39mrange\u001b[39m(population_size)]\n\u001b[0;32m      6\u001b[0m \u001b[39mself\u001b[39m\u001b[39m.\u001b[39mglobal_best_position \u001b[39m=\u001b[39m np\u001b[39m.\u001b[39mcopy(\u001b[39mself\u001b[39m\u001b[39m.\u001b[39mpopulation[\u001b[39m0\u001b[39m]\u001b[39m.\u001b[39mposition)\n\u001b[0;32m      7\u001b[0m \u001b[39mself\u001b[39m\u001b[39m.\u001b[39mcognitive_weight \u001b[39m=\u001b[39m cognitive_weight\n",
      "\u001b[1;31mNameError\u001b[0m: name 'Particle' is not defined"
     ]
    }
   ],
   "source": [
    "from sklearn.model_selection import train_test_split\n",
    "\n",
    "# Split into train and test sets\n",
    "X_train, X_test, Y_train, Y_test = train_test_split(X, Y, test_size=0.2, random_state=42)\n",
    "\n",
    "print(\"Training set size: \", X_train.shape[0])\n",
    "print(\"Test set size: \", X_test.shape[0])\n",
    "\n",
    "# Initialize ELM\n",
    "elm = ELM(input_dim=X.shape[1], hidden_dim=15, output_dim=1)\n",
    "\n",
    "# Train model\n",
    "elm.train(X_train, Y_train, epochs=20)\n",
    "\n",
    "# Predict on test data\n",
    "Y_pred = elm.predict(X_test)\n",
    "\n",
    "# Print predictions\n",
    "print(Y_pred)\n"
   ]
  },
  {
   "cell_type": "code",
   "execution_count": null,
   "metadata": {},
   "outputs": [
    {
     "name": "stdout",
     "output_type": "stream",
     "text": [
      "Root Mean Squared Error: 0.056427784\n"
     ]
    }
   ],
   "source": [
    "import numpy as np\n",
    "\n",
    "# Assuming Y_pred and Y_test are numpy arrays or lists of predicted and true values, respectively.\n",
    "\n",
    "# Step 1: Calculate the squared error for each predicted value and corresponding true value\n",
    "squared_errors = (Y_pred - Y_test)**2\n",
    "\n",
    "# Step 2: Compute the mean of the squared errors\n",
    "mean_squared_error = np.mean(squared_errors)\n",
    "\n",
    "# Step 3: Take the square root of the mean squared error to get the RMSE\n",
    "rmse = np.sqrt(mean_squared_error)\n",
    "\n",
    "print(\"Root Mean Squared Error:\", rmse)\n"
   ]
  },
  {
   "cell_type": "code",
   "execution_count": null,
   "metadata": {},
   "outputs": [
    {
     "name": "stdout",
     "output_type": "stream",
     "text": [
      "R-squared: 0.5349509418010712\n"
     ]
    }
   ],
   "source": [
    "import numpy as np\n",
    "\n",
    "# Assuming Y_pred and Y_test are numpy arrays or lists of predicted and true values, respectively.\n",
    "\n",
    "# Step 1: Calculate the mean of the true values\n",
    "mean_y = np.mean(Y_test)\n",
    "\n",
    "# Step 2: Calculate the total sum of squares (TSS)\n",
    "tss = np.sum((Y_test - mean_y) ** 2)\n",
    "\n",
    "# Step 3: Calculate the residual sum of squares (RSS)\n",
    "rss = np.sum((Y_test - Y_pred) ** 2)\n",
    "\n",
    "# Step 4: Calculate R-squared\n",
    "r_squared = 1 - (rss / tss)\n",
    "\n",
    "print(\"R-squared:\", r_squared)\n"
   ]
  },
  {
   "cell_type": "code",
   "execution_count": null,
   "metadata": {},
   "outputs": [
    {
     "name": "stdout",
     "output_type": "stream",
     "text": [
      "tf.Tensor(\n",
      "[[0.10527012]\n",
      " [0.0660775 ]\n",
      " [0.0708288 ]\n",
      " ...\n",
      " [0.02427721]\n",
      " [0.0875784 ]\n",
      " [0.18469228]], shape=(1314, 1), dtype=float32)\n"
     ]
    },
    {
     "data": {
      "image/png": "[encoded data removed]",
      "text/plain": [
       "<Figure size 800x600 with 1 Axes>"
      ]
     },
     "metadata": {},
     "output_type": "display_data"
    }
   ],
   "source": [
    "import matplotlib.pyplot as plt\n",
    "\n",
    "# Draw a chart of predicted vs. actual values\n",
    "print(Y_pred)\n",
    "\n",
    "# Draw a chart of predicted vs. actual values\n",
    "plt.figure(figsize=(8, 6))\n",
    "plt.scatter(Y_test, Y_pred, color='blue', label='Predicted vs. Actual')\n",
    "plt.plot([min(Y_test), max(Y_test)], [min(Y_test), max(Y_test)], 'k--', lw=2, label='Ideal Line')\n",
    "plt.xlabel('Actual Values')\n",
    "plt.ylabel('Predicted Values')\n",
    "plt.title('Predicted vs. Actual Values')\n",
    "plt.legend()\n",
    "plt.show()\n"
   ]
  }
 ],
 "metadata": {
  "kernelspec": {
   "display_name": "base",
   "language": "python",
   "name": "python3"
  },
  "language_info": {
   "codemirror_mode": {
    "name": "ipython",
    "version": 3
   },
   "file_extension": ".py",
   "mimetype": "text/x-python",
   "name": "python",
   "nbconvert_exporter": "python",
   "pygments_lexer": "ipython3",
   "version": "3.11.3"
  },
  "orig_nbformat": 4
 },
 "nbformat": 4,
 "nbformat_minor": 2
}
